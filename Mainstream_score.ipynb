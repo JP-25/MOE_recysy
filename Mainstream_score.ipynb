{
 "cells": [
  {
   "cell_type": "code",
   "execution_count": 1,
   "id": "e661f829",
   "metadata": {},
   "outputs": [],
   "source": [
    "import numpy as np\n",
    "import pickle\n",
    "import pandas as pd\n",
    "from tqdm import tqdm\n",
    "from math import log\n",
    "from scipy.sparse import coo_matrix\n",
    "import seaborn as sns\n",
    "import matplotlib.pyplot as plt\n",
    "from scipy.stats import skew\n",
    "from scipy.stats import mode\n",
    "from experiment import EarlyStop, train_model\n",
    "import os\n",
    "import sys\n",
    "from collections import OrderedDict\n",
    "\n",
    "import torch\n",
    "import torch.nn as nn\n",
    "import torch.multiprocessing as multiprocessing\n",
    "\n",
    "import utils.Constant as CONSTANT\n",
    "from dataloader import UIRTDatset\n",
    "from evaluation import Evaluator\n",
    "\n",
    "import warnings\n",
    "\n",
    "warnings.filterwarnings(\"ignore\")\n",
    "\n",
    "os.environ[\"CUDA_DEVICE_ORDER\"] = \"PCI_BUS_ID\""
   ]
  },
  {
   "cell_type": "code",
   "execution_count": 2,
   "id": "01353fde",
   "metadata": {},
   "outputs": [
    {
     "name": "stdout",
     "output_type": "stream",
     "text": [
      "data loaded!\n"
     ]
    }
   ],
   "source": [
    "gpu = 0\n",
    "gpu = str(gpu)\n",
    "os.environ[\"CUDA_VISIBLE_DEVICES\"] = gpu \n",
    "\n",
    "device = torch.device(\"cuda\" if torch.cuda.is_available() else \"cpu\")\n",
    "\n",
    "data_dir = \"data/recsys_data\"\n",
    "dataset = \"ml-1m\"\n",
    "min_user_per_item = 1\n",
    "min_item_per_user = 10\n",
    "\n",
    "# leave-k-out\n",
    "leave_k = 5\n",
    "popularity_order = True\n",
    "\n",
    "dataset = UIRTDatset(data_dir, dataset, min_user_per_item, min_item_per_user, leave_k, popularity_order)"
   ]
  },
  {
   "cell_type": "code",
   "execution_count": 3,
   "id": "a706fbb3",
   "metadata": {},
   "outputs": [],
   "source": [
    "num_users, num_items = dataset.num_users, dataset.num_items\n",
    "# mainstream score, jaccard similarity\n",
    "train_mat = dataset.train_matrix.tocoo().toarray()\n",
    "user_pop = np.sum(train_mat, axis=1)\n",
    "Jaccard_mat = np.matmul(train_mat, train_mat.T)\n",
    "deno = user_pop.reshape((-1, 1)) + user_pop.reshape((1, -1)) - Jaccard_mat + 1e-7\n",
    "Jaccard_mat /= deno\n",
    "Jaccard_mat = Jaccard_mat + np.eye(num_users) * -9999\n",
    "Jaccard_mat = Jaccard_mat[np.where(Jaccard_mat > -1)].reshape((num_users, num_users - 1))\n",
    "MS_similarity = np.mean(Jaccard_mat, axis=1)\n",
    "similarity_dir = os.path.join(dataset.data_dir, dataset.data_name, 'mainstream_scores')\n",
    "if not os.path.exists(similarity_dir):\n",
    "    os.mkdir(similarity_dir)\n",
    "similarity_file = os.path.join(similarity_dir, 'MS_similarity.npy')\n",
    "with open(similarity_file, \"wb\") as f:\n",
    "    np.save(f, MS_similarity)"
   ]
  },
  {
   "cell_type": "code",
   "execution_count": 4,
   "id": "205cd64b",
   "metadata": {},
   "outputs": [],
   "source": [
    "# check = np.load('./data/recsys_data/ml-1m/mainstream_scores/gate_initialize.npy')\n",
    "# print(check)"
   ]
  },
  {
   "cell_type": "code",
   "execution_count": 4,
   "id": "4c2ebc4a",
   "metadata": {},
   "outputs": [],
   "source": []
  }
 ],
 "metadata": {
  "kernelspec": {
   "display_name": "Python 3 (ipykernel)",
   "language": "python",
   "name": "python3"
  },
  "language_info": {
   "codemirror_mode": {
    "name": "ipython",
    "version": 3
   },
   "file_extension": ".py",
   "mimetype": "text/x-python",
   "name": "python",
   "nbconvert_exporter": "python",
   "pygments_lexer": "ipython3",
   "version": "3.9.15"
  }
 },
 "nbformat": 4,
 "nbformat_minor": 5
}
